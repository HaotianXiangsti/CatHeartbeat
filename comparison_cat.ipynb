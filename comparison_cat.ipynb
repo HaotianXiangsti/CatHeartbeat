{
 "cells": [
  {
   "cell_type": "code",
   "execution_count": 25,
   "metadata": {
    "ExecuteTime": {
     "end_time": "2024-01-30T21:12:30.164443Z",
     "start_time": "2024-01-30T21:12:30.148440500Z"
    }
   },
   "outputs": [],
   "source": [
    "import numpy as np\n",
    "from algo_DSPYS import signal_quality_assessment_v3, calc_hr, signal_quality_assessment_v3_with_timestamp\n",
    "import matplotlib.pyplot as plt\n",
    "from scipy import signal\n",
    "from scipy.signal import hilbert, savgol_filter\n",
    "\n",
    "from utils import *\n",
    "from statsmodels.tsa.stattools import acf\n",
    "import os\n"
   ]
  },
  {
   "cell_type": "code",
   "execution_count": null,
   "outputs": [],
   "source": [
    "!pip install tsfel"
   ],
   "metadata": {
    "collapsed": false
   }
  },
  {
   "cell_type": "code",
   "execution_count": null,
   "outputs": [],
   "source": [
    "!pip install statsmodels"
   ],
   "metadata": {
    "collapsed": false
   }
  },
  {
   "cell_type": "code",
   "execution_count": null,
   "outputs": [],
   "source": [
    "!pip install influxdb"
   ],
   "metadata": {
    "collapsed": false
   }
  },
  {
   "cell_type": "code",
   "execution_count": null,
   "metadata": {},
   "outputs": [],
   "source": [
    "train_data = np.load('Cage_cat_dec24_dec31.npy')"
   ]
  },
  {
   "cell_type": "code",
   "execution_count": null,
   "metadata": {},
   "outputs": [],
   "source": [
    "train_data.shape"
   ]
  },
  {
   "cell_type": "code",
   "execution_count": null,
   "metadata": {},
   "outputs": [],
   "source": [
    "X_train = train_data[:, :1000]\n",
    "X_train.shape"
   ]
  },
  {
   "cell_type": "code",
   "execution_count": null,
   "metadata": {},
   "outputs": [],
   "source": [
    "X_train_2 = X_train[0,:].reshape(1,-1)\n",
    "X_train_2.shape\n",
    "# lab = labels[0,:].reshape(-1,1)\n",
    "# times = train_data[0,-1].reshape(-1,1)"
   ]
  },
  {
   "cell_type": "code",
   "execution_count": null,
   "outputs": [],
   "source": [
    "timestamp_list = list()\n",
    "for i in range(train_data.shape[0]):\n",
    "    print(train_data[i,-1])\n",
    "    timestamp_list.append(train_data[i,-1])"
   ],
   "metadata": {
    "collapsed": false
   }
  },
  {
   "cell_type": "code",
   "execution_count": null,
   "outputs": [],
   "source": [
    "str(int(train_data[i,-1]))"
   ],
   "metadata": {
    "collapsed": false
   }
  },
  {
   "cell_type": "code",
   "execution_count": null,
   "outputs": [],
   "source": [
    "s = X_train[i,:]\n",
    "s[-1:].shape"
   ],
   "metadata": {
    "collapsed": false
   }
  },
  {
   "cell_type": "code",
   "execution_count": null,
   "metadata": {},
   "outputs": [],
   "source": [
    "ids = []"
   ]
  },
  {
   "cell_type": "code",
   "execution_count": null,
   "outputs": [],
   "source": [
    "for i in range(10):\n",
    "    x = X_train[i,:]\n",
    "    res = signal_quality_assessment_v3(x=x, Fs=100, n_lag=len(x) // 2,\n",
    "                                       low = 0.7, high = 35,\n",
    "                                       denoised_method = 'bandpass',\n",
    "                                       show=True)\n",
    "    if res[0]:\n",
    "        X_train_2 = np.concatenate((X_train_2,X_train[i,:].reshape(1,-1)), axis =0)\n",
    "        # lab = np.concatenate((lab,labels[i,:].reshape(-1,1)),axis=0)\n",
    "        # times = np.concatenate((times,train_data[i,-1].reshape(-1,1)),axis=0)\n",
    "        ids.append(i)"
   ],
   "metadata": {
    "collapsed": false
   }
  },
  {
   "cell_type": "code",
   "execution_count": null,
   "outputs": [],
   "source": [
    "for i in range(1):\n",
    "    x = X_train[i,:]\n",
    "    res = signal_quality_assessment_v3_with_timestamp(x=x, Fs=100, n_lag=len(x) // 2,\n",
    "                                       low = 0.7, high = 35,\n",
    "                                       denoised_method = 'bandpass',\n",
    "                                       show=False)\n",
    "    if res[0]:\n",
    "        X_train_2 = np.concatenate((X_train_2,X_train[i,:].reshape(1,-1)), axis =0)\n",
    "        # lab = np.concatenate((lab,labels[i,:].reshape(-1,1)),axis=0)\n",
    "        # times = np.concatenate((times,train_data[i,-1].reshape(-1,1)),axis=0)\n",
    "        ids.append(i)"
   ],
   "metadata": {
    "collapsed": false
   }
  },
  {
   "cell_type": "code",
   "execution_count": null,
   "outputs": [],
   "source": [
    "res"
   ],
   "metadata": {
    "collapsed": false
   }
  },
  {
   "cell_type": "code",
   "execution_count": null,
   "metadata": {},
   "outputs": [],
   "source": [
    "for i in range(X_train.shape[0]):\n",
    "    x = X_train[i,:]\n",
    "    res = signal_quality_assessment_v3(x=x, Fs=100, n_lag=len(x) // 2, \n",
    "                                       low = 0.7, high = 35, \n",
    "                                       denoised_method = 'bandpass',\n",
    "                                       show=False)\n",
    "    if res[0]:\n",
    "        X_train_2 = np.concatenate((X_train_2,X_train[i,:].reshape(1,-1)), axis =0)\n",
    "        # lab = np.concatenate((lab,labels[i,:].reshape(-1,1)),axis=0)\n",
    "        # times = np.concatenate((times,train_data[i,-1].reshape(-1,1)),axis=0)\n",
    "        ids.append(i)"
   ]
  },
  {
   "cell_type": "code",
   "execution_count": null,
   "metadata": {},
   "outputs": [],
   "source": [
    "X_train_2 = X_train_2[1:,:]\n",
    "# lab = lab[1:,:]\n",
    "# times = times[1:,:]"
   ]
  },
  {
   "cell_type": "code",
   "execution_count": null,
   "metadata": {},
   "outputs": [],
   "source": [
    "X_train_2.shape"
   ]
  },
  {
   "cell_type": "code",
   "execution_count": null,
   "metadata": {},
   "outputs": [],
   "source": [
    "X_train = np.copy(X_train_2)"
   ]
  },
  {
   "cell_type": "code",
   "execution_count": null,
   "metadata": {},
   "outputs": [],
   "source": [
    "a = X_train[15,:]"
   ]
  },
  {
   "cell_type": "code",
   "execution_count": null,
   "metadata": {},
   "outputs": [],
   "source": [
    "plt.figure(figsize=(10,2))\n",
    "plt.plot(a[:500])"
   ]
  },
  {
   "cell_type": "code",
   "execution_count": null,
   "metadata": {},
   "outputs": [],
   "source": [
    "j = 1558"
   ]
  },
  {
   "cell_type": "code",
   "execution_count": null,
   "metadata": {},
   "outputs": [],
   "source": [
    "j = 0"
   ]
  },
  {
   "cell_type": "code",
   "execution_count": null,
   "metadata": {},
   "outputs": [],
   "source": [
    "a = X_train[j,:]\n",
    "# i+=1\n",
    "res = signal_quality_assessment_v3(x=a, Fs=100, n_lag=1000 // 2, \n",
    "                                        low = 0.7, high = 35, \n",
    "                                        denoised_method = 'bandpass',\n",
    "                                        show=True)\n",
    "j+=1"
   ]
  },
  {
   "cell_type": "code",
   "execution_count": null,
   "metadata": {},
   "outputs": [],
   "source": [
    "res"
   ]
  },
  {
   "cell_type": "code",
   "execution_count": null,
   "metadata": {},
   "outputs": [],
   "source": [
    "Fs = 100"
   ]
  },
  {
   "cell_type": "code",
   "execution_count": null,
   "metadata": {},
   "outputs": [],
   "source": [
    "# index = 0\n",
    "# window_size = int(Fs)\n",
    "# z= hilbert(a) \n",
    "# # z = x \n",
    "# envelope = np.abs(z)\n",
    "\n",
    "# sg_win_len = round(0.27 * Fs)\n",
    "# if sg_win_len%2 == 0:\n",
    "#     sg_win_len -= 1\n",
    "# smoothed_envelope = savgol_filter(envelope, sg_win_len, 3, mode='nearest')\n",
    "# smoothed_envelope = (smoothed_envelope - np.mean(smoothed_envelope))/np.std(smoothed_envelope)\n",
    "\n",
    "# sg_win_len = round(2.01 * Fs)\n",
    "# if sg_win_len%2 == 0:\n",
    "#     sg_win_len -= 1\n",
    "# trend = savgol_filter(smoothed_envelope, sg_win_len, 6, mode='nearest')\n",
    "# # smoothed_envelope = smoothed_envelope - trend\n",
    "# smoothed_envelope = (smoothed_envelope - np.mean(smoothed_envelope))/np.std(smoothed_envelope)\n",
    "# acf_x = acf(smoothed_envelope, nlags=500)\n",
    "# acf_x = acf_x / acf_x[0]"
   ]
  },
  {
   "cell_type": "code",
   "execution_count": null,
   "metadata": {},
   "outputs": [],
   "source": [
    "# plt.figure(figsize=(18,2))\n",
    "# plt.plot(acf_x)"
   ]
  },
  {
   "cell_type": "code",
   "execution_count": null,
   "metadata": {},
   "outputs": [],
   "source": [
    "# peak_ids, _ = signal.find_peaks(acf_x)"
   ]
  },
  {
   "cell_type": "code",
   "execution_count": null,
   "metadata": {},
   "outputs": [],
   "source": [
    "# peak_ids"
   ]
  },
  {
   "cell_type": "code",
   "execution_count": null,
   "metadata": {},
   "outputs": [],
   "source": [
    "acf_x = res[-1]\n",
    "peak_ids, _ = signal.find_peaks(acf_x) #height = np.mean(acf_x)\n",
    "time_diff = peak_ids[1:] - peak_ids[:-1]\n",
    "time_diff"
   ]
  },
  {
   "cell_type": "code",
   "execution_count": null,
   "metadata": {},
   "outputs": [],
   "source": [
    "peak_ids"
   ]
  },
  {
   "cell_type": "code",
   "execution_count": null,
   "metadata": {},
   "outputs": [],
   "source": [
    "# peak_ids, _ = signal.find_peaks(acf_x, height = np.mean(acf_x))"
   ]
  },
  {
   "cell_type": "code",
   "execution_count": null,
   "metadata": {},
   "outputs": [],
   "source": [
    "fs =100"
   ]
  },
  {
   "cell_type": "code",
   "execution_count": null,
   "metadata": {},
   "outputs": [],
   "source": [
    "cadidates = []\n",
    "for peak_id in peak_ids:\n",
    "            if (peak_id > int(0.25 * fs) and peak_id < int(0.8 * fs)):\n",
    "                cadidates.append(peak_id)\n",
    "        \n",
    "            if len(cadidates) == 0:\n",
    "                median_hr = np.median(time_diff)\n",
    "            else:\n",
    "                # median_hr = cadidates[np.argmax(acf_x[cadidates])] #+ int(0.5 * Fs)   \n",
    "                median_hr = cadidates[0] "
   ]
  },
  {
   "cell_type": "code",
   "execution_count": null,
   "metadata": {},
   "outputs": [],
   "source": [
    "frequency = 1/(median_hr/fs)"
   ]
  },
  {
   "cell_type": "code",
   "execution_count": null,
   "metadata": {},
   "outputs": [],
   "source": [
    "frequency"
   ]
  },
  {
   "cell_type": "code",
   "execution_count": null,
   "metadata": {},
   "outputs": [],
   "source": [
    "round(frequency * 60) "
   ]
  },
  {
   "cell_type": "code",
   "execution_count": null,
   "metadata": {},
   "outputs": [],
   "source": [
    "Y_train[5]"
   ]
  },
  {
   "cell_type": "code",
   "execution_count": null,
   "metadata": {},
   "outputs": [],
   "source": [
    "hr = []\n",
    "label_ac = []"
   ]
  },
  {
   "cell_type": "code",
   "execution_count": null,
   "metadata": {},
   "outputs": [],
   "source": [
    "# print('===============================')\n",
    "# print('bandpass filter......')\n",
    "# cnt = 0\n",
    "# for i in range(X_train.shape[0]):\n",
    "#     X_train[i, :] = filter_data(X_train[i, :], Fs, 0.7, 35, 5)"
   ]
  },
  {
   "cell_type": "code",
   "execution_count": null,
   "metadata": {},
   "outputs": [],
   "source": [
    "X_train_3 = X_train[0,:].reshape(1,-1)"
   ]
  },
  {
   "cell_type": "code",
   "execution_count": null,
   "metadata": {},
   "outputs": [],
   "source": [
    "for i in range(X_train.shape[0]):\n",
    "    hr_1, _ = calc_hr(X_train[i,:])\n",
    "    if hr_1!=-1:\n",
    "        hr.append(hr_1)\n",
    "        label_ac.append(Y_train[i,:])\n",
    "        X_train_3 = np.concatenate((X_train_3,X_train[i,:].reshape(1,-1)),axis=0)"
   ]
  },
  {
   "cell_type": "code",
   "execution_count": null,
   "metadata": {},
   "outputs": [],
   "source": [
    "X_train_3 = X_train_3[1:,:]"
   ]
  },
  {
   "cell_type": "code",
   "execution_count": null,
   "metadata": {},
   "outputs": [],
   "source": [
    "# hr[80:90]"
   ]
  },
  {
   "cell_type": "code",
   "execution_count": null,
   "metadata": {},
   "outputs": [],
   "source": [
    "plt.plot(hr)\n",
    "plt.ylabel('Heart Rate')\n",
    "plt.xlabel('Sample')\n",
    "plt.title('Predictions')"
   ]
  },
  {
   "cell_type": "code",
   "execution_count": null,
   "metadata": {},
   "outputs": [],
   "source": [
    "hr = np.array(hr).reshape(-1,1)\n",
    "lab_ac = np.array(label_ac).reshape(-1,1)"
   ]
  },
  {
   "cell_type": "code",
   "execution_count": null,
   "metadata": {},
   "outputs": [],
   "source": [
    "# v = int(lab.shape[0])"
   ]
  },
  {
   "cell_type": "code",
   "execution_count": null,
   "metadata": {},
   "outputs": [],
   "source": [
    "hr.shape"
   ]
  },
  {
   "cell_type": "code",
   "execution_count": null,
   "metadata": {},
   "outputs": [],
   "source": [
    "# hr = hr[:v,:]"
   ]
  },
  {
   "cell_type": "code",
   "execution_count": null,
   "metadata": {},
   "outputs": [],
   "source": [
    "plot_2vectors(lab_ac, hr, name='Prediction Results')"
   ]
  },
  {
   "cell_type": "code",
   "execution_count": null,
   "metadata": {},
   "outputs": [],
   "source": [
    "ids_2 = []"
   ]
  },
  {
   "cell_type": "code",
   "execution_count": null,
   "metadata": {},
   "outputs": [],
   "source": [
    "my_hr = []\n",
    "my_lab = []"
   ]
  },
  {
   "cell_type": "code",
   "execution_count": null,
   "metadata": {},
   "outputs": [],
   "source": [
    "for i in range(hr.shape[0]):\n",
    "    diff = hr[i,0] - lab[i]\n",
    "    if 20 < abs(diff) < 25:\n",
    "        ids_2.append(i)\n",
    "    if abs(diff)<25:\n",
    "        my_hr.append(hr[i])\n",
    "        my_lab.append(lab[i])\n"
   ]
  },
  {
   "cell_type": "code",
   "execution_count": null,
   "metadata": {},
   "outputs": [],
   "source": [
    "my_hr = np.array(my_hr)\n",
    "my_lab = np.array(my_lab)"
   ]
  },
  {
   "cell_type": "code",
   "execution_count": null,
   "metadata": {},
   "outputs": [],
   "source": [
    "plot_2vectors(my_lab, my_hr, name='Prediction Results')"
   ]
  },
  {
   "cell_type": "code",
   "execution_count": null,
   "metadata": {},
   "outputs": [],
   "source": [
    "# ids_2 = []"
   ]
  },
  {
   "cell_type": "code",
   "execution_count": null,
   "metadata": {},
   "outputs": [],
   "source": [
    "# for i in range(my_hr.shape[0]):\n",
    "#     diff = my_hr[i,0] - my_lab[i]\n",
    "#     if abs(diff)> 20:\n",
    "#         ids_2.append(i)"
   ]
  },
  {
   "cell_type": "code",
   "execution_count": null,
   "metadata": {},
   "outputs": [],
   "source": [
    "len(ids_2)"
   ]
  },
  {
   "cell_type": "code",
   "execution_count": null,
   "metadata": {},
   "outputs": [],
   "source": [
    "j = 0"
   ]
  },
  {
   "cell_type": "code",
   "execution_count": null,
   "metadata": {},
   "outputs": [],
   "source": [
    "# print('id:', ids_2[j])\n",
    "# print('pred:', hr[ids_2[j]])\n",
    "# print('label', lab[ids_2[j]])\n",
    "# # j+=1"
   ]
  },
  {
   "cell_type": "code",
   "execution_count": null,
   "metadata": {},
   "outputs": [],
   "source": [
    "times[138,0]"
   ]
  },
  {
   "cell_type": "code",
   "execution_count": null,
   "metadata": {},
   "outputs": [],
   "source": [
    "a = X_train_3[2,:]\n",
    "res = signal_quality_assessment_v3(x=a, Fs=100, n_lag=1000 // 2, \n",
    "                                        low = 0.7, high = 35, \n",
    "                                        denoised_method = 'bandpass',\n",
    "                                        show=True)"
   ]
  },
  {
   "cell_type": "code",
   "execution_count": null,
   "metadata": {},
   "outputs": [],
   "source": [
    "acf_x = res[-1]\n",
    "peak_ids, _ = signal.find_peaks(acf_x, height = np.mean(acf_x)) #height = np.mean(acf_x)"
   ]
  },
  {
   "cell_type": "code",
   "execution_count": null,
   "metadata": {},
   "outputs": [],
   "source": [
    "peak_ids"
   ]
  },
  {
   "cell_type": "code",
   "execution_count": null,
   "metadata": {},
   "outputs": [],
   "source": [
    "time_diff = peak_ids[1:] - peak_ids[:-1]\n",
    "np.median(time_diff)"
   ]
  },
  {
   "cell_type": "code",
   "execution_count": null,
   "metadata": {},
   "outputs": [],
   "source": [
    "hrr = 1/(peak_ids[0]/fs)*60\n",
    "hrr"
   ]
  },
  {
   "cell_type": "code",
   "execution_count": null,
   "metadata": {},
   "outputs": [],
   "source": [
    "my_lab[1]"
   ]
  },
  {
   "cell_type": "code",
   "execution_count": null,
   "metadata": {},
   "outputs": [],
   "source": []
  }
 ],
 "metadata": {
  "kernelspec": {
   "display_name": "base",
   "language": "python",
   "name": "python3"
  },
  "language_info": {
   "codemirror_mode": {
    "name": "ipython",
    "version": 3
   },
   "file_extension": ".py",
   "mimetype": "text/x-python",
   "name": "python",
   "nbconvert_exporter": "python",
   "pygments_lexer": "ipython3",
   "version": "3.9.18"
  },
  "orig_nbformat": 4
 },
 "nbformat": 4,
 "nbformat_minor": 2
}
